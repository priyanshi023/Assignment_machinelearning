{
 "cells": [
  {
   "cell_type": "markdown",
   "id": "dfc1965c",
   "metadata": {},
   "source": [
    "## importing important libraries"
   ]
  },
  {
   "cell_type": "code",
   "execution_count": 1,
   "id": "e7519597",
   "metadata": {},
   "outputs": [],
   "source": [
    "\n",
    "\n",
    "import numpy as np\n",
    "import pandas as pd\n",
    "import seaborn as sns\n",
    "import matplotlib.pyplot as plt\n",
    "import warnings\n",
    "warnings.filterwarnings('ignore')\n",
    "\n",
    "\n"
   ]
  },
  {
   "cell_type": "markdown",
   "id": "46f6d47b",
   "metadata": {},
   "source": [
    "## importing data"
   ]
  },
  {
   "cell_type": "code",
   "execution_count": 2,
   "id": "5c2549ac",
   "metadata": {},
   "outputs": [
    {
     "data": {
      "text/html": [
       "<div>\n",
       "<style scoped>\n",
       "    .dataframe tbody tr th:only-of-type {\n",
       "        vertical-align: middle;\n",
       "    }\n",
       "\n",
       "    .dataframe tbody tr th {\n",
       "        vertical-align: top;\n",
       "    }\n",
       "\n",
       "    .dataframe thead th {\n",
       "        text-align: right;\n",
       "    }\n",
       "</style>\n",
       "<table border=\"1\" class=\"dataframe\">\n",
       "  <thead>\n",
       "    <tr style=\"text-align: right;\">\n",
       "      <th></th>\n",
       "      <th>Sqft</th>\n",
       "      <th>Floor</th>\n",
       "      <th>TotalFloor</th>\n",
       "      <th>Bedroom</th>\n",
       "      <th>Living.Room</th>\n",
       "      <th>Bathroom</th>\n",
       "      <th>Price</th>\n",
       "    </tr>\n",
       "  </thead>\n",
       "  <tbody>\n",
       "    <tr>\n",
       "      <th>0</th>\n",
       "      <td>1177.698</td>\n",
       "      <td>2</td>\n",
       "      <td>7</td>\n",
       "      <td>2</td>\n",
       "      <td>2</td>\n",
       "      <td>2</td>\n",
       "      <td>62000</td>\n",
       "    </tr>\n",
       "    <tr>\n",
       "      <th>1</th>\n",
       "      <td>2134.800</td>\n",
       "      <td>5</td>\n",
       "      <td>7</td>\n",
       "      <td>4</td>\n",
       "      <td>2</td>\n",
       "      <td>2</td>\n",
       "      <td>78000</td>\n",
       "    </tr>\n",
       "    <tr>\n",
       "      <th>2</th>\n",
       "      <td>1138.560</td>\n",
       "      <td>5</td>\n",
       "      <td>7</td>\n",
       "      <td>2</td>\n",
       "      <td>2</td>\n",
       "      <td>1</td>\n",
       "      <td>58000</td>\n",
       "    </tr>\n",
       "    <tr>\n",
       "      <th>3</th>\n",
       "      <td>1458.780</td>\n",
       "      <td>2</td>\n",
       "      <td>7</td>\n",
       "      <td>3</td>\n",
       "      <td>2</td>\n",
       "      <td>2</td>\n",
       "      <td>45000</td>\n",
       "    </tr>\n",
       "    <tr>\n",
       "      <th>4</th>\n",
       "      <td>967.776</td>\n",
       "      <td>11</td>\n",
       "      <td>14</td>\n",
       "      <td>3</td>\n",
       "      <td>2</td>\n",
       "      <td>2</td>\n",
       "      <td>45000</td>\n",
       "    </tr>\n",
       "  </tbody>\n",
       "</table>\n",
       "</div>"
      ],
      "text/plain": [
       "       Sqft  Floor  TotalFloor  Bedroom  Living.Room  Bathroom  Price\n",
       "0  1177.698      2           7        2            2         2  62000\n",
       "1  2134.800      5           7        4            2         2  78000\n",
       "2  1138.560      5           7        2            2         1  58000\n",
       "3  1458.780      2           7        3            2         2  45000\n",
       "4   967.776     11          14        3            2         2  45000"
      ]
     },
     "execution_count": 2,
     "metadata": {},
     "output_type": "execute_result"
    }
   ],
   "source": [
    "\n",
    "\n",
    "data=pd.read_csv(\"C:/Users/PC-LENOVO/Documents/Machine Learning/new sir/ass1_knnregressor.csv\")\n",
    "data.head()\n",
    "\n"
   ]
  },
  {
   "cell_type": "code",
   "execution_count": 3,
   "id": "cfb2236c",
   "metadata": {},
   "outputs": [
    {
     "data": {
      "text/html": [
       "<div>\n",
       "<style scoped>\n",
       "    .dataframe tbody tr th:only-of-type {\n",
       "        vertical-align: middle;\n",
       "    }\n",
       "\n",
       "    .dataframe tbody tr th {\n",
       "        vertical-align: top;\n",
       "    }\n",
       "\n",
       "    .dataframe thead th {\n",
       "        text-align: right;\n",
       "    }\n",
       "</style>\n",
       "<table border=\"1\" class=\"dataframe\">\n",
       "  <thead>\n",
       "    <tr style=\"text-align: right;\">\n",
       "      <th></th>\n",
       "      <th>Sqft</th>\n",
       "      <th>Floor</th>\n",
       "      <th>TotalFloor</th>\n",
       "      <th>Bedroom</th>\n",
       "      <th>Living.Room</th>\n",
       "      <th>Bathroom</th>\n",
       "      <th>Price</th>\n",
       "    </tr>\n",
       "  </thead>\n",
       "  <tbody>\n",
       "    <tr>\n",
       "      <th>640</th>\n",
       "      <td>1359.156</td>\n",
       "      <td>7</td>\n",
       "      <td>15</td>\n",
       "      <td>3</td>\n",
       "      <td>2</td>\n",
       "      <td>2</td>\n",
       "      <td>45000</td>\n",
       "    </tr>\n",
       "    <tr>\n",
       "      <th>641</th>\n",
       "      <td>377.148</td>\n",
       "      <td>4</td>\n",
       "      <td>10</td>\n",
       "      <td>1</td>\n",
       "      <td>1</td>\n",
       "      <td>1</td>\n",
       "      <td>24800</td>\n",
       "    </tr>\n",
       "    <tr>\n",
       "      <th>642</th>\n",
       "      <td>740.064</td>\n",
       "      <td>13</td>\n",
       "      <td>14</td>\n",
       "      <td>1</td>\n",
       "      <td>1</td>\n",
       "      <td>1</td>\n",
       "      <td>45000</td>\n",
       "    </tr>\n",
       "    <tr>\n",
       "      <th>643</th>\n",
       "      <td>1707.840</td>\n",
       "      <td>3</td>\n",
       "      <td>14</td>\n",
       "      <td>3</td>\n",
       "      <td>2</td>\n",
       "      <td>2</td>\n",
       "      <td>65000</td>\n",
       "    </tr>\n",
       "    <tr>\n",
       "      <th>644</th>\n",
       "      <td>1376.946</td>\n",
       "      <td>6</td>\n",
       "      <td>7</td>\n",
       "      <td>3</td>\n",
       "      <td>2</td>\n",
       "      <td>1</td>\n",
       "      <td>36000</td>\n",
       "    </tr>\n",
       "  </tbody>\n",
       "</table>\n",
       "</div>"
      ],
      "text/plain": [
       "         Sqft  Floor  TotalFloor  Bedroom  Living.Room  Bathroom  Price\n",
       "640  1359.156      7          15        3            2         2  45000\n",
       "641   377.148      4          10        1            1         1  24800\n",
       "642   740.064     13          14        1            1         1  45000\n",
       "643  1707.840      3          14        3            2         2  65000\n",
       "644  1376.946      6           7        3            2         1  36000"
      ]
     },
     "execution_count": 3,
     "metadata": {},
     "output_type": "execute_result"
    }
   ],
   "source": [
    "data.tail(5)"
   ]
  },
  {
   "cell_type": "markdown",
   "id": "5aee5ed2",
   "metadata": {},
   "source": [
    "## checking for null values"
   ]
  },
  {
   "cell_type": "code",
   "execution_count": 4,
   "id": "5edaa64b",
   "metadata": {},
   "outputs": [
    {
     "data": {
      "text/plain": [
       "Sqft           0\n",
       "Floor          0\n",
       "TotalFloor     0\n",
       "Bedroom        0\n",
       "Living.Room    0\n",
       "Bathroom       0\n",
       "Price          0\n",
       "dtype: int64"
      ]
     },
     "execution_count": 4,
     "metadata": {},
     "output_type": "execute_result"
    }
   ],
   "source": [
    "data.isnull().sum()"
   ]
  },
  {
   "cell_type": "code",
   "execution_count": 5,
   "id": "1d5f1317",
   "metadata": {},
   "outputs": [
    {
     "data": {
      "text/plain": [
       "Index(['Sqft', 'Floor', 'TotalFloor', 'Bedroom', 'Living.Room', 'Bathroom',\n",
       "       'Price'],\n",
       "      dtype='object')"
      ]
     },
     "execution_count": 5,
     "metadata": {},
     "output_type": "execute_result"
    }
   ],
   "source": [
    "data.keys()"
   ]
  },
  {
   "cell_type": "markdown",
   "id": "fd559db9",
   "metadata": {},
   "source": [
    "### Data Visualization"
   ]
  },
  {
   "cell_type": "code",
   "execution_count": 6,
   "id": "2bb69256",
   "metadata": {},
   "outputs": [
    {
     "data": {
      "text/plain": [
       "<AxesSubplot:>"
      ]
     },
     "execution_count": 6,
     "metadata": {},
     "output_type": "execute_result"
    },
    {
     "data": {
      "image/png": "[encoded data removed]",
      "text/plain": [
       "<Figure size 1500x1500 with 2 Axes>"
      ]
     },
     "metadata": {},
     "output_type": "display_data"
    }
   ],
   "source": [
    "plt.figure(figsize=(15, 15))\n",
    "sns.heatmap(data.corr(), annot = True)"
   ]
  },
  {
   "cell_type": "markdown",
   "id": "aa04db83",
   "metadata": {},
   "source": [
    "#### The price of house majorly depends on ---\n",
    "#### 1. Bathroom and Sqft"
   ]
  },
  {
   "cell_type": "markdown",
   "id": "7bf8262a",
   "metadata": {},
   "source": [
    "## Splittng data into X and Y"
   ]
  },
  {
   "cell_type": "code",
   "execution_count": 7,
   "id": "1505b088",
   "metadata": {},
   "outputs": [
    {
     "data": {
      "text/html": [
       "<div>\n",
       "<style scoped>\n",
       "    .dataframe tbody tr th:only-of-type {\n",
       "        vertical-align: middle;\n",
       "    }\n",
       "\n",
       "    .dataframe tbody tr th {\n",
       "        vertical-align: top;\n",
       "    }\n",
       "\n",
       "    .dataframe thead th {\n",
       "        text-align: right;\n",
       "    }\n",
       "</style>\n",
       "<table border=\"1\" class=\"dataframe\">\n",
       "  <thead>\n",
       "    <tr style=\"text-align: right;\">\n",
       "      <th></th>\n",
       "      <th>Sqft</th>\n",
       "      <th>Floor</th>\n",
       "      <th>TotalFloor</th>\n",
       "      <th>Bedroom</th>\n",
       "      <th>Living.Room</th>\n",
       "      <th>Bathroom</th>\n",
       "    </tr>\n",
       "  </thead>\n",
       "  <tbody>\n",
       "    <tr>\n",
       "      <th>0</th>\n",
       "      <td>1177.698</td>\n",
       "      <td>2</td>\n",
       "      <td>7</td>\n",
       "      <td>2</td>\n",
       "      <td>2</td>\n",
       "      <td>2</td>\n",
       "    </tr>\n",
       "    <tr>\n",
       "      <th>1</th>\n",
       "      <td>2134.800</td>\n",
       "      <td>5</td>\n",
       "      <td>7</td>\n",
       "      <td>4</td>\n",
       "      <td>2</td>\n",
       "      <td>2</td>\n",
       "    </tr>\n",
       "    <tr>\n",
       "      <th>2</th>\n",
       "      <td>1138.560</td>\n",
       "      <td>5</td>\n",
       "      <td>7</td>\n",
       "      <td>2</td>\n",
       "      <td>2</td>\n",
       "      <td>1</td>\n",
       "    </tr>\n",
       "    <tr>\n",
       "      <th>3</th>\n",
       "      <td>1458.780</td>\n",
       "      <td>2</td>\n",
       "      <td>7</td>\n",
       "      <td>3</td>\n",
       "      <td>2</td>\n",
       "      <td>2</td>\n",
       "    </tr>\n",
       "    <tr>\n",
       "      <th>4</th>\n",
       "      <td>967.776</td>\n",
       "      <td>11</td>\n",
       "      <td>14</td>\n",
       "      <td>3</td>\n",
       "      <td>2</td>\n",
       "      <td>2</td>\n",
       "    </tr>\n",
       "    <tr>\n",
       "      <th>...</th>\n",
       "      <td>...</td>\n",
       "      <td>...</td>\n",
       "      <td>...</td>\n",
       "      <td>...</td>\n",
       "      <td>...</td>\n",
       "      <td>...</td>\n",
       "    </tr>\n",
       "    <tr>\n",
       "      <th>640</th>\n",
       "      <td>1359.156</td>\n",
       "      <td>7</td>\n",
       "      <td>15</td>\n",
       "      <td>3</td>\n",
       "      <td>2</td>\n",
       "      <td>2</td>\n",
       "    </tr>\n",
       "    <tr>\n",
       "      <th>641</th>\n",
       "      <td>377.148</td>\n",
       "      <td>4</td>\n",
       "      <td>10</td>\n",
       "      <td>1</td>\n",
       "      <td>1</td>\n",
       "      <td>1</td>\n",
       "    </tr>\n",
       "    <tr>\n",
       "      <th>642</th>\n",
       "      <td>740.064</td>\n",
       "      <td>13</td>\n",
       "      <td>14</td>\n",
       "      <td>1</td>\n",
       "      <td>1</td>\n",
       "      <td>1</td>\n",
       "    </tr>\n",
       "    <tr>\n",
       "      <th>643</th>\n",
       "      <td>1707.840</td>\n",
       "      <td>3</td>\n",
       "      <td>14</td>\n",
       "      <td>3</td>\n",
       "      <td>2</td>\n",
       "      <td>2</td>\n",
       "    </tr>\n",
       "    <tr>\n",
       "      <th>644</th>\n",
       "      <td>1376.946</td>\n",
       "      <td>6</td>\n",
       "      <td>7</td>\n",
       "      <td>3</td>\n",
       "      <td>2</td>\n",
       "      <td>1</td>\n",
       "    </tr>\n",
       "  </tbody>\n",
       "</table>\n",
       "<p>645 rows × 6 columns</p>\n",
       "</div>"
      ],
      "text/plain": [
       "         Sqft  Floor  TotalFloor  Bedroom  Living.Room  Bathroom\n",
       "0    1177.698      2           7        2            2         2\n",
       "1    2134.800      5           7        4            2         2\n",
       "2    1138.560      5           7        2            2         1\n",
       "3    1458.780      2           7        3            2         2\n",
       "4     967.776     11          14        3            2         2\n",
       "..        ...    ...         ...      ...          ...       ...\n",
       "640  1359.156      7          15        3            2         2\n",
       "641   377.148      4          10        1            1         1\n",
       "642   740.064     13          14        1            1         1\n",
       "643  1707.840      3          14        3            2         2\n",
       "644  1376.946      6           7        3            2         1\n",
       "\n",
       "[645 rows x 6 columns]"
      ]
     },
     "execution_count": 7,
     "metadata": {},
     "output_type": "execute_result"
    }
   ],
   "source": [
    "# X\n",
    "\n",
    "X=data.drop('Price', axis=1)\n",
    "X\n"
   ]
  },
  {
   "cell_type": "code",
   "execution_count": 8,
   "id": "d3b0b0e0",
   "metadata": {},
   "outputs": [
    {
     "data": {
      "text/html": [
       "<div>\n",
       "<style scoped>\n",
       "    .dataframe tbody tr th:only-of-type {\n",
       "        vertical-align: middle;\n",
       "    }\n",
       "\n",
       "    .dataframe tbody tr th {\n",
       "        vertical-align: top;\n",
       "    }\n",
       "\n",
       "    .dataframe thead th {\n",
       "        text-align: right;\n",
       "    }\n",
       "</style>\n",
       "<table border=\"1\" class=\"dataframe\">\n",
       "  <thead>\n",
       "    <tr style=\"text-align: right;\">\n",
       "      <th></th>\n",
       "      <th>Price</th>\n",
       "    </tr>\n",
       "  </thead>\n",
       "  <tbody>\n",
       "    <tr>\n",
       "      <th>0</th>\n",
       "      <td>62000</td>\n",
       "    </tr>\n",
       "    <tr>\n",
       "      <th>1</th>\n",
       "      <td>78000</td>\n",
       "    </tr>\n",
       "    <tr>\n",
       "      <th>2</th>\n",
       "      <td>58000</td>\n",
       "    </tr>\n",
       "    <tr>\n",
       "      <th>3</th>\n",
       "      <td>45000</td>\n",
       "    </tr>\n",
       "    <tr>\n",
       "      <th>4</th>\n",
       "      <td>45000</td>\n",
       "    </tr>\n",
       "    <tr>\n",
       "      <th>...</th>\n",
       "      <td>...</td>\n",
       "    </tr>\n",
       "    <tr>\n",
       "      <th>640</th>\n",
       "      <td>45000</td>\n",
       "    </tr>\n",
       "    <tr>\n",
       "      <th>641</th>\n",
       "      <td>24800</td>\n",
       "    </tr>\n",
       "    <tr>\n",
       "      <th>642</th>\n",
       "      <td>45000</td>\n",
       "    </tr>\n",
       "    <tr>\n",
       "      <th>643</th>\n",
       "      <td>65000</td>\n",
       "    </tr>\n",
       "    <tr>\n",
       "      <th>644</th>\n",
       "      <td>36000</td>\n",
       "    </tr>\n",
       "  </tbody>\n",
       "</table>\n",
       "<p>645 rows × 1 columns</p>\n",
       "</div>"
      ],
      "text/plain": [
       "     Price\n",
       "0    62000\n",
       "1    78000\n",
       "2    58000\n",
       "3    45000\n",
       "4    45000\n",
       "..     ...\n",
       "640  45000\n",
       "641  24800\n",
       "642  45000\n",
       "643  65000\n",
       "644  36000\n",
       "\n",
       "[645 rows x 1 columns]"
      ]
     },
     "execution_count": 8,
     "metadata": {},
     "output_type": "execute_result"
    }
   ],
   "source": [
    "# Creating TargetVariable\n",
    "\n",
    "y=data[['Price']]\n",
    "y"
   ]
  },
  {
   "cell_type": "markdown",
   "id": "815d21fe",
   "metadata": {},
   "source": [
    "## Performing train test split."
   ]
  },
  {
   "cell_type": "code",
   "execution_count": 9,
   "id": "813a7283",
   "metadata": {},
   "outputs": [],
   "source": [
    "from sklearn.model_selection import train_test_split\n",
    "\n",
    "X_train, X_test, y_train, y_test=train_test_split(X, y, test_size=0.25, random_state=0)"
   ]
  },
  {
   "cell_type": "markdown",
   "id": "5292eb58",
   "metadata": {},
   "source": [
    "### Applying Linear Regression on dataset"
   ]
  },
  {
   "cell_type": "code",
   "execution_count": 10,
   "id": "f0e76a89",
   "metadata": {},
   "outputs": [],
   "source": [
    "from sklearn.linear_model import LinearRegression\n",
    "lr=LinearRegression()\n"
   ]
  },
  {
   "cell_type": "code",
   "execution_count": 11,
   "id": "6a914df8",
   "metadata": {},
   "outputs": [
    {
     "data": {
      "text/plain": [
       "LinearRegression()"
      ]
     },
     "execution_count": 11,
     "metadata": {},
     "output_type": "execute_result"
    }
   ],
   "source": [
    "lr.fit(X_train, y_train)\n"
   ]
  },
  {
   "cell_type": "markdown",
   "id": "76a19ecf",
   "metadata": {},
   "source": [
    "## Prediction"
   ]
  },
  {
   "cell_type": "code",
   "execution_count": 12,
   "id": "0ed22b5b",
   "metadata": {},
   "outputs": [],
   "source": [
    "y_pred = lr.predict(X_test)\n"
   ]
  },
  {
   "cell_type": "markdown",
   "id": "0a0e8c72",
   "metadata": {},
   "source": [
    "## Comparison between prediction and test set data"
   ]
  },
  {
   "cell_type": "code",
   "execution_count": 13,
   "id": "f86e454b",
   "metadata": {},
   "outputs": [
    {
     "name": "stdout",
     "output_type": "stream",
     "text": [
      "[[106797.20772    100000.        ]\n",
      " [ 33490.92684639  28000.        ]\n",
      " [ 80726.70630979  55000.        ]\n",
      " [ 84840.52720736  43000.        ]\n",
      " [ 32866.57178373  25000.        ]\n",
      " [109163.36758545 138888.        ]\n",
      " [120793.3681571  160000.        ]\n",
      " [ 65606.95804995  51999.        ]\n",
      " [ 57010.02601828  36000.        ]\n",
      " [ 41746.23633369  41999.        ]\n",
      " [ 51043.0035131   40000.        ]\n",
      " [ 37977.52197263  36000.        ]\n",
      " [ 20984.59390132  27500.        ]\n",
      " [ 54190.74027275  50000.        ]\n",
      " [ 47254.95071456  35000.        ]\n",
      " [ 81056.68189163 108000.        ]\n",
      " [ 37080.80682596  58500.        ]\n",
      " [ 45380.60961845  45000.        ]\n",
      " [ 62989.50119041  75000.        ]\n",
      " [ 50693.67607909  45000.        ]\n",
      " [ 24666.04790535  32500.        ]\n",
      " [169205.26852575 180000.        ]\n",
      " [ 77830.85629643  77999.        ]\n",
      " [ 91898.50831667  69500.        ]\n",
      " [ 66162.32994539  75000.        ]\n",
      " [ 81682.13905061 100000.        ]\n",
      " [ 75343.37068612  69000.        ]\n",
      " [ 64777.02171849  45000.        ]\n",
      " [ 74491.98695882  88000.        ]\n",
      " [ 60931.24770604  75000.        ]\n",
      " [ 88345.79608276  76000.        ]\n",
      " [ 34620.5816668   20000.        ]\n",
      " [ 78472.65043471  60000.        ]\n",
      " [102265.91377029 138888.        ]\n",
      " [ 52871.55372919  40000.        ]\n",
      " [ 29784.65910656  26000.        ]\n",
      " [ 66096.0213818   55000.        ]\n",
      " [ 68503.31594805 100000.        ]\n",
      " [ 56801.36614154  45000.        ]\n",
      " [ 58335.94723681  50000.        ]\n",
      " [ 53519.02094851  36000.        ]\n",
      " [ 39885.69688421  50000.        ]\n",
      " [ 79090.75530351  77999.        ]\n",
      " [ 53195.11677289  45000.        ]\n",
      " [ 77920.56777736 100000.        ]\n",
      " [ 43970.5996288   42000.        ]\n",
      " [ 66888.50361547  45000.        ]\n",
      " [ 30972.25329856  30000.        ]\n",
      " [231764.57547262 170000.        ]\n",
      " [ 69765.00372381  72000.        ]\n",
      " [166326.43494568 200000.        ]\n",
      " [ 64117.06942246  59888.        ]\n",
      " [ 37977.52197263  36000.        ]\n",
      " [ 45842.73126105  49998.        ]\n",
      " [ 55545.86937131  68000.        ]\n",
      " [ 68503.31594805 105000.        ]\n",
      " [ 91109.85561559  55000.        ]\n",
      " [ 50889.43459247  46000.        ]\n",
      " [109521.6025588   90000.        ]\n",
      " [ 77576.60470225  99888.        ]\n",
      " [ 83340.64041173  56000.        ]\n",
      " [ 81870.16732359  80000.        ]\n",
      " [ 29701.11768894  24030.        ]\n",
      " [ 28653.97544826  11900.        ]\n",
      " [ 94336.89922236  57000.        ]\n",
      " [104289.91715256 110000.        ]\n",
      " [ 38674.99759455  45000.        ]\n",
      " [ 44703.04954681  50000.        ]\n",
      " [ 41056.49095218  42000.        ]\n",
      " [ 24427.41615549  25000.        ]\n",
      " [ 28930.56836585  33000.        ]\n",
      " [ 63633.88980179  99990.        ]\n",
      " [ 76877.03353666  45000.        ]\n",
      " [ 69765.00372381  65000.        ]\n",
      " [ 72193.01513622 129999.        ]\n",
      " [ 30940.61666462  31000.        ]\n",
      " [ 28651.21863088  32000.        ]\n",
      " [ 56910.00764709  42000.        ]\n",
      " [ 80170.31751254  98000.        ]\n",
      " [ 38997.65329598  32000.        ]\n",
      " [ 55676.75250957  45000.        ]\n",
      " [ 30262.48583587  45000.        ]\n",
      " [ 84911.88136794  63000.        ]\n",
      " [ 24422.33814872  38000.        ]\n",
      " [ 55852.86386335  45000.        ]\n",
      " [ 56915.33959622  45000.        ]\n",
      " [ 71466.84146613  48000.        ]\n",
      " [ 89498.84235297  55000.        ]\n",
      " [ 46402.44252094  39000.        ]\n",
      " [ 26310.20021845  28000.        ]\n",
      " [ 65166.80613624  65000.        ]\n",
      " [ 81003.6850514   78000.        ]\n",
      " [ 80808.90765513  68000.        ]\n",
      " [ 42710.70062172  38000.        ]\n",
      " [ 44366.3758895   55000.        ]\n",
      " [ 33811.4984717   45000.        ]\n",
      " [ 61571.22261301  50000.        ]\n",
      " [123232.36222968 150000.        ]\n",
      " [ 43766.34198891  36000.        ]\n",
      " [ 52238.09637314  45000.        ]\n",
      " [ 26633.38531193  28000.        ]\n",
      " [ 94010.93451245  58000.        ]\n",
      " [ 56342.72039844  85000.        ]\n",
      " [110625.19516923 100000.        ]\n",
      " [ 57846.31120069  40000.        ]\n",
      " [ 35393.45810594  43500.        ]\n",
      " [ 41375.20756148  26000.        ]\n",
      " [ 56532.92983865  26000.        ]\n",
      " [ 35978.13757212  53000.        ]\n",
      " [ 68273.32632763  60000.        ]\n",
      " [ 31503.64957237  35000.        ]\n",
      " [ 91332.72451819  70000.        ]\n",
      " [ 91251.66663425  68000.        ]\n",
      " [ 43262.78327907  45000.        ]\n",
      " [ 57038.50694239  69999.        ]\n",
      " [ 66162.32994539  75000.        ]\n",
      " [ 79715.69453798  90000.        ]\n",
      " [ 49135.1193622   40000.        ]\n",
      " [ 69717.33883271  60000.        ]\n",
      " [ 60618.63491273  88000.        ]\n",
      " [ 40138.79866129  35000.        ]\n",
      " [ 68503.31594805 100000.        ]\n",
      " [ 28868.41445245  60000.        ]\n",
      " [ 56279.16375921  50000.        ]\n",
      " [ 19981.94937436  17000.        ]\n",
      " [ 73517.72029033  68000.        ]\n",
      " [123653.38495617 158000.        ]\n",
      " [ 35265.36722348  46000.        ]\n",
      " [125535.50471677 168000.        ]\n",
      " [ 42002.88427199  38000.        ]\n",
      " [ 37080.80682596  57777.        ]\n",
      " [ 84840.52720736  43000.        ]\n",
      " [111417.64499312  95000.        ]\n",
      " [ 49768.66390779  57000.        ]\n",
      " [ 75046.14278984  54999.        ]\n",
      " [ 57062.16574925  39000.        ]\n",
      " [ 84030.90371775  70000.        ]\n",
      " [ 56279.16375921  49800.        ]\n",
      " [ 45968.2500404   40000.        ]\n",
      " [ 60023.90249866  89900.        ]\n",
      " [ 58650.63320379  49800.        ]\n",
      " [ 51000.38421899  41000.        ]\n",
      " [ 38769.70638661  33500.        ]\n",
      " [ 50987.64519991  42000.        ]\n",
      " [ 29628.93688173  35000.        ]\n",
      " [ 58152.08962832  59800.        ]\n",
      " [ 91163.67910246  74999.        ]\n",
      " [110625.19516923 100000.        ]\n",
      " [ 51293.47840731  58000.        ]\n",
      " [ 60023.90249866  69000.        ]\n",
      " [ 17156.94563685  35000.        ]\n",
      " [ 24795.35485221  28500.        ]\n",
      " [ 64973.5006939   98000.        ]\n",
      " [ 47118.87564933  48800.        ]\n",
      " [ 52532.35184609 150000.        ]\n",
      " [ 59239.1441497   99999.        ]\n",
      " [ 44101.22882469  28000.        ]\n",
      " [116574.1467062  185000.        ]\n",
      " [ 64060.24110249  37000.        ]\n",
      " [ 78494.58334528  70000.        ]\n",
      " [ 46980.92657303  47999.        ]\n",
      " [ 32937.37418226  29800.        ]]\n"
     ]
    }
   ],
   "source": [
    "y_test = y_test.values\n",
    "print(np.concatenate((y_pred.reshape(len(y_pred), 1), y_test.reshape(len(y_test), 1)), 1))"
   ]
  },
  {
   "cell_type": "markdown",
   "id": "c717df2d",
   "metadata": {},
   "source": [
    "## Evaluation Metrics "
   ]
  },
  {
   "cell_type": "code",
   "execution_count": 14,
   "id": "62513bde",
   "metadata": {},
   "outputs": [],
   "source": [
    "from sklearn.metrics import mean_squared_error, r2_score, make_scorer,mean_absolute_error"
   ]
  },
  {
   "cell_type": "code",
   "execution_count": 15,
   "id": "5fa340b4",
   "metadata": {},
   "outputs": [
    {
     "data": {
      "text/plain": [
       "440685533.960514"
      ]
     },
     "execution_count": 15,
     "metadata": {},
     "output_type": "execute_result"
    }
   ],
   "source": [
    "mse=mean_squared_error(y_test,y_pred, squared=True)\n",
    "mse"
   ]
  },
  {
   "cell_type": "code",
   "execution_count": 16,
   "id": "41c278da",
   "metadata": {},
   "outputs": [
    {
     "data": {
      "text/plain": [
       "20992.51137812039"
      ]
     },
     "execution_count": 16,
     "metadata": {},
     "output_type": "execute_result"
    }
   ],
   "source": [
    "rmse = np.sqrt(mse)\n",
    "rmse"
   ]
  },
  {
   "cell_type": "code",
   "execution_count": 17,
   "id": "bb7f8984",
   "metadata": {},
   "outputs": [
    {
     "name": "stdout",
     "output_type": "stream",
     "text": [
      "R2score 0.6523894789774942\n"
     ]
    }
   ],
   "source": [
    "R2score = r2_score( y_test, y_pred)\n",
    "print('R2score', R2score)\n",
    "\n"
   ]
  },
  {
   "cell_type": "markdown",
   "id": "aa21cced",
   "metadata": {},
   "source": [
    "#### this shows us that the model's accuracy is 65.23%"
   ]
  },
  {
   "cell_type": "code",
   "execution_count": 18,
   "id": "3a716fe1",
   "metadata": {},
   "outputs": [
    {
     "data": {
      "text/plain": [
       "array([1410.85438307])"
      ]
     },
     "execution_count": 18,
     "metadata": {},
     "output_type": "execute_result"
    }
   ],
   "source": [
    "lr.intercept_"
   ]
  },
  {
   "cell_type": "code",
   "execution_count": 19,
   "id": "9bfe9a54",
   "metadata": {},
   "outputs": [
    {
     "data": {
      "text/plain": [
       "array([[   38.77152229,  1259.89900708,   113.97345469, -2438.99407258,\n",
       "        -2059.3779507 ,  1800.40392999]])"
      ]
     },
     "execution_count": 19,
     "metadata": {},
     "output_type": "execute_result"
    }
   ],
   "source": [
    "lr.coef_"
   ]
  },
  {
   "cell_type": "markdown",
   "id": "a0b7fe14",
   "metadata": {},
   "source": [
    "#### As it depends mainly on sqft and bathroom so condering both to create equation"
   ]
  },
  {
   "cell_type": "code",
   "execution_count": null,
   "id": "2ae18cb6",
   "metadata": {},
   "outputs": [],
   "source": [
    "price_of_house= 1410 +38.77*(Sqft) + 1800*(Bathroom)"
   ]
  },
  {
   "cell_type": "code",
   "execution_count": null,
   "id": "2be43d4a",
   "metadata": {},
   "outputs": [],
   "source": []
  }
 ],
 "metadata": {
  "kernelspec": {
   "display_name": "Python 3 (ipykernel)",
   "language": "python",
   "name": "python3"
  },
  "language_info": {
   "codemirror_mode": {
    "name": "ipython",
    "version": 3
   },
   "file_extension": ".py",
   "mimetype": "text/x-python",
   "name": "python",
   "nbconvert_exporter": "python",
   "pygments_lexer": "ipython3",
   "version": "3.9.13"
  }
 },
 "nbformat": 4,
 "nbformat_minor": 5
}
